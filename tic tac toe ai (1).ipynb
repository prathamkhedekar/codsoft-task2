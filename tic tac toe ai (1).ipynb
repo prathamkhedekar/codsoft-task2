{
 "cells": [
  {
   "cell_type": "code",
   "execution_count": 1,
   "id": "67bc6cb9-6233-4bae-9c00-f36015af9abc",
   "metadata": {},
   "outputs": [
    {
     "name": "stdout",
     "output_type": "stream",
     "text": [
      "Collecting easyAI\n",
      "  Downloading easyAI-2.0.12-py3-none-any.whl.metadata (4.5 kB)\n",
      "Requirement already satisfied: numpy in c:\\users\\admin\\anaconda3\\lib\\site-packages (from easyAI) (1.26.4)\n",
      "Downloading easyAI-2.0.12-py3-none-any.whl (42 kB)\n",
      "   ---------------------------------------- 0.0/42.2 kB ? eta -:--:--\n",
      "   -------------------------------------- - 41.0/42.2 kB 991.0 kB/s eta 0:00:01\n",
      "   -------------------------------------- - 41.0/42.2 kB 991.0 kB/s eta 0:00:01\n",
      "   -------------------------------------- - 41.0/42.2 kB 991.0 kB/s eta 0:00:01\n",
      "   -------------------------------------- - 41.0/42.2 kB 991.0 kB/s eta 0:00:01\n",
      "   -------------------------------------- - 41.0/42.2 kB 991.0 kB/s eta 0:00:01\n",
      "   ---------------------------------------- 42.2/42.2 kB 127.7 kB/s eta 0:00:00\n",
      "Installing collected packages: easyAI\n",
      "Successfully installed easyAI-2.0.12\n"
     ]
    }
   ],
   "source": [
    "!pip install easyAI"
   ]
  },
  {
   "cell_type": "code",
   "execution_count": 2,
   "id": "720a2cc5-cbd5-4aa1-afd8-3115323e68d4",
   "metadata": {},
   "outputs": [],
   "source": [
    "# importing the required classes and functions\n",
    "from easyAI import TwoPlayerGame, Human_Player, AI_Player, solve_with_iterative_deepening, solve_with_depth_first_search\n",
    "from easyAI.AI import Negamax"
   ]
  },
  {
   "cell_type": "code",
   "execution_count": 3,
   "id": "d5d8ecb4-41ad-428a-b982-e820a1e7af00",
   "metadata": {},
   "outputs": [],
   "source": [
    "# declaring the specifications of the game\n",
    "class TicTacToe(TwoPlayerGame):\n",
    "    \"\"\"The board positions are numbered as follows:\n",
    "    1 2 3\n",
    "    4 5 6\n",
    "    7 8 9\n",
    "    \"\"\"\n",
    "\n",
    "    def __init__(self, players=None):\n",
    "        self.players = players\n",
    "        self.board = [0 for i in range(9)]\n",
    "        self.current_player = 1\n",
    "\n",
    "    def possible_moves(self):\n",
    "        return [i + 1 for i, e in enumerate(self.board) if e == 0]\n",
    "\n",
    "    def make_move(self, move):\n",
    "        self.board[int(move) - 1] = self.current_player\n",
    "\n",
    "    def unmake_move(self, move):  # optional method (speeds up the AI)\n",
    "        self.board[int(move) - 1] = 0\n",
    "\n",
    "    def lose(self):\n",
    "        \"\"\" Has the opponent \"three in line ?\" \"\"\"\n",
    "        return any(\n",
    "            [\n",
    "                all([(self.board[c - 1] == self.opponent_index) for c in line])\n",
    "                for line in [\n",
    "                    [1, 2, 3],\n",
    "                    [4, 5, 6],\n",
    "                    [7, 8, 9],  # horiz.\n",
    "                    [1, 4, 7],\n",
    "                    [2, 5, 8],\n",
    "                    [3, 6, 9],  # vertical\n",
    "                    [1, 5, 9],\n",
    "                    [3, 5, 7],\n",
    "                ]\n",
    "            ]\n",
    "        )  # diagonal\n",
    "\n",
    "    def is_over(self):\n",
    "        return (self.possible_moves() == []) or self.lose()\n",
    "\n",
    "    def show(self):\n",
    "        print(\n",
    "            \"\\n\"\n",
    "            + \"\\n\".join(\n",
    "                [\n",
    "                    \" \".join([[\".\", \"O\", \"X\"][self.board[3 * j + i]] for i in range(3)])\n",
    "                    for j in range(3)\n",
    "                ]\n",
    "            )\n",
    "        )\n",
    "\n",
    "    def scoring(self):\n",
    "        return -100 if self.lose() else 0"
   ]
  },
  {
   "cell_type": "code",
   "execution_count": 4,
   "id": "f58fabe8-e4b6-4350-a836-2725b92207d5",
   "metadata": {},
   "outputs": [],
   "source": [
    "# solving the game using specified searching approaches\n",
    "def main(algo):\n",
    "  ai = Negamax(9)\n",
    "  if algo == 'id':\n",
    "      result = solve_with_iterative_deepening(game=TicTacToe(players=[AI_Player(ai), Human_Player()]), ai_depths=range(2, 10), win_score=100)\n",
    "  elif algo == 'dfs':\n",
    "      result = solve_with_depth_first_search(game=TicTacToe(players=[AI_Player(ai), Human_Player()]), win_score=100)\n",
    "  else:\n",
    "      print(\"Invalid algorithm.\")\n",
    "  return result"
   ]
  },
  {
   "cell_type": "code",
   "execution_count": 5,
   "id": "0a9652b0-f73e-4d50-a4aa-81aa6e3596e4",
   "metadata": {},
   "outputs": [
    {
     "name": "stdout",
     "output_type": "stream",
     "text": [
      "d:2, a:0, m:1\n",
      "d:3, a:0, m:1\n",
      "d:4, a:0, m:1\n",
      "d:5, a:0, m:1\n",
      "d:6, a:0, m:1\n",
      "d:7, a:0, m:1\n",
      "d:8, a:0, m:1\n",
      "d:9, a:0, m:1\n",
      "Result:  (0, 9, 1)\n",
      "Time Taken: 0.85s\n"
     ]
    }
   ],
   "source": [
    "import time\n",
    "start = time.time()\n",
    "idres = main('id')\n",
    "end = time.time()\n",
    "print('Result: ', idres)\n",
    "print(str.format('Time Taken: {:.2f}s', end-start))"
   ]
  },
  {
   "cell_type": "code",
   "execution_count": 6,
   "id": "89811429-4a0c-4cbf-b59e-f5c94c3f30af",
   "metadata": {},
   "outputs": [
    {
     "name": "stdout",
     "output_type": "stream",
     "text": [
      "Result:  0\n",
      "Time Taken: 1.33s\n"
     ]
    }
   ],
   "source": [
    "import time\n",
    "start = time.time()\n",
    "dfsres = main('dfs')\n",
    "end = time.time()\n",
    "print('Result: ', dfsres)\n",
    "print(str.format('Time Taken: {:.2f}s', end-start))"
   ]
  },
  {
   "cell_type": "code",
   "execution_count": 7,
   "id": "74fd698c-1f0f-4b16-9b14-0da1d0364f17",
   "metadata": {},
   "outputs": [],
   "source": [
    "# initializing the game\n",
    "game = TicTacToe(players=[AI_Player(Negamax(9)), Human_Player()])"
   ]
  },
  {
   "cell_type": "code",
   "execution_count": 8,
   "id": "b168a6df-4a25-4829-8333-3f34481bbfd5",
   "metadata": {},
   "outputs": [
    {
     "data": {
      "text/plain": [
       "1"
      ]
     },
     "execution_count": 8,
     "metadata": {},
     "output_type": "execute_result"
    }
   ],
   "source": [
    "\n",
    "\n",
    "game.get_move()"
   ]
  },
  {
   "cell_type": "code",
   "execution_count": 9,
   "id": "33979adc-958d-4ec0-b901-1850d9f0a343",
   "metadata": {},
   "outputs": [
    {
     "name": "stdout",
     "output_type": "stream",
     "text": [
      "\n",
      ". O .\n",
      ". . .\n",
      ". . .\n"
     ]
    }
   ],
   "source": [
    "\n",
    "game.play_move(2)\n",
    "game.show()"
   ]
  },
  {
   "cell_type": "code",
   "execution_count": 10,
   "id": "76b8eec8-c703-42f9-8967-9b01a178208a",
   "metadata": {},
   "outputs": [
    {
     "name": "stdin",
     "output_type": "stream",
     "text": [
      "\n",
      "Player 2 what do you play ?  1\n"
     ]
    },
    {
     "data": {
      "text/plain": [
       "1"
      ]
     },
     "execution_count": 10,
     "metadata": {},
     "output_type": "execute_result"
    }
   ],
   "source": [
    "\n",
    "game.get_move()"
   ]
  },
  {
   "cell_type": "code",
   "execution_count": 11,
   "id": "cc1e1a44-fc8b-4254-9bc0-aa08a88bd912",
   "metadata": {},
   "outputs": [
    {
     "name": "stdout",
     "output_type": "stream",
     "text": [
      "\n",
      "X O .\n",
      ". . .\n",
      ". . .\n"
     ]
    }
   ],
   "source": [
    "game.play_move(1)\n",
    "game.show()"
   ]
  },
  {
   "cell_type": "code",
   "execution_count": 12,
   "id": "5be0c30a-e63f-4dda-82cf-b5711dd06ef5",
   "metadata": {},
   "outputs": [
    {
     "data": {
      "text/plain": [
       "4"
      ]
     },
     "execution_count": 12,
     "metadata": {},
     "output_type": "execute_result"
    }
   ],
   "source": [
    "game.get_move()"
   ]
  },
  {
   "cell_type": "code",
   "execution_count": 13,
   "id": "17ab3269-28c5-42e7-94c0-44ad689e9510",
   "metadata": {},
   "outputs": [
    {
     "name": "stdout",
     "output_type": "stream",
     "text": [
      "\n",
      "X O O\n",
      ". . .\n",
      ". . .\n"
     ]
    }
   ],
   "source": [
    "game.play_move(3)\n",
    "game.show()"
   ]
  },
  {
   "cell_type": "code",
   "execution_count": 14,
   "id": "fc04cfc9-f701-49bb-821c-3d6e8d91899e",
   "metadata": {},
   "outputs": [
    {
     "name": "stdin",
     "output_type": "stream",
     "text": [
      "\n",
      "Player 2 what do you play ?  \n",
      "\n",
      "Player 2 what do you play ?  4\n"
     ]
    },
    {
     "data": {
      "text/plain": [
       "4"
      ]
     },
     "execution_count": 14,
     "metadata": {},
     "output_type": "execute_result"
    }
   ],
   "source": [
    "game.get_move()"
   ]
  },
  {
   "cell_type": "code",
   "execution_count": 15,
   "id": "ac61db44-2e8f-4cd8-81cb-591e6b09f982",
   "metadata": {},
   "outputs": [
    {
     "name": "stdout",
     "output_type": "stream",
     "text": [
      "\n",
      "X O O\n",
      "X . .\n",
      ". . .\n"
     ]
    }
   ],
   "source": [
    "game.play_move(4)\n",
    "game.show()"
   ]
  },
  {
   "cell_type": "code",
   "execution_count": 16,
   "id": "1ab71fdc-c7bd-4e9c-a88f-e00cac9ac9e3",
   "metadata": {},
   "outputs": [
    {
     "data": {
      "text/plain": [
       "7"
      ]
     },
     "execution_count": 16,
     "metadata": {},
     "output_type": "execute_result"
    }
   ],
   "source": [
    "game.get_move()"
   ]
  },
  {
   "cell_type": "code",
   "execution_count": 17,
   "id": "e5b985e4-5a11-4f3a-b8aa-6f9d285b61dd",
   "metadata": {},
   "outputs": [
    {
     "name": "stdout",
     "output_type": "stream",
     "text": [
      "\n",
      "X O O\n",
      "X . .\n",
      "O . .\n"
     ]
    }
   ],
   "source": [
    "game.play_move(7)\n",
    "game.show()"
   ]
  },
  {
   "cell_type": "code",
   "execution_count": 18,
   "id": "1111281e-a8d0-4637-90a9-e6a88fd3e6bd",
   "metadata": {},
   "outputs": [
    {
     "name": "stdin",
     "output_type": "stream",
     "text": [
      "\n",
      "Player 2 what do you play ?  5\n"
     ]
    },
    {
     "data": {
      "text/plain": [
       "5"
      ]
     },
     "execution_count": 18,
     "metadata": {},
     "output_type": "execute_result"
    }
   ],
   "source": [
    "game.get_move()"
   ]
  },
  {
   "cell_type": "code",
   "execution_count": 19,
   "id": "7fdf5902-a7f2-4e3f-a88c-9d113e68e669",
   "metadata": {},
   "outputs": [
    {
     "name": "stdout",
     "output_type": "stream",
     "text": [
      "\n",
      "X O O\n",
      "X X .\n",
      "O . .\n"
     ]
    }
   ],
   "source": [
    "game.play_move(5)\n",
    "game.show()"
   ]
  },
  {
   "cell_type": "code",
   "execution_count": 20,
   "id": "3b2c1e83-ec3a-450d-a310-65cfdffd8da0",
   "metadata": {},
   "outputs": [
    {
     "data": {
      "text/plain": [
       "6"
      ]
     },
     "execution_count": 20,
     "metadata": {},
     "output_type": "execute_result"
    }
   ],
   "source": [
    "game.get_move()"
   ]
  },
  {
   "cell_type": "code",
   "execution_count": 21,
   "id": "df1d4654-81ab-45d1-bbef-4a844d2934a4",
   "metadata": {},
   "outputs": [
    {
     "name": "stdout",
     "output_type": "stream",
     "text": [
      "\n",
      "X O O\n",
      "X X O\n",
      "O . .\n"
     ]
    }
   ],
   "source": [
    "game.play_move(6)\n",
    "game.show()"
   ]
  },
  {
   "cell_type": "code",
   "execution_count": 22,
   "id": "5a1a76bb-3f69-4c34-b752-2ee5e4fc45fa",
   "metadata": {},
   "outputs": [
    {
     "name": "stdin",
     "output_type": "stream",
     "text": [
      "\n",
      "Player 2 what do you play ?  9\n"
     ]
    },
    {
     "data": {
      "text/plain": [
       "9"
      ]
     },
     "execution_count": 22,
     "metadata": {},
     "output_type": "execute_result"
    }
   ],
   "source": [
    "game.get_move()"
   ]
  },
  {
   "cell_type": "code",
   "execution_count": 23,
   "id": "cc6c8240-d3c4-41e7-b124-d04159f56c45",
   "metadata": {},
   "outputs": [
    {
     "name": "stdout",
     "output_type": "stream",
     "text": [
      "\n",
      "X O O\n",
      "X X O\n",
      "O . X\n"
     ]
    }
   ],
   "source": [
    "game.play_move(9)\n",
    "game.show()"
   ]
  },
  {
   "cell_type": "code",
   "execution_count": null,
   "id": "13eba348-40f7-46ac-b42f-ecee083ebc9d",
   "metadata": {},
   "outputs": [],
   "source": []
  }
 ],
 "metadata": {
  "kernelspec": {
   "display_name": "Python 3 (ipykernel)",
   "language": "python",
   "name": "python3"
  },
  "language_info": {
   "codemirror_mode": {
    "name": "ipython",
    "version": 3
   },
   "file_extension": ".py",
   "mimetype": "text/x-python",
   "name": "python",
   "nbconvert_exporter": "python",
   "pygments_lexer": "ipython3",
   "version": "3.11.7"
  }
 },
 "nbformat": 4,
 "nbformat_minor": 5
}
